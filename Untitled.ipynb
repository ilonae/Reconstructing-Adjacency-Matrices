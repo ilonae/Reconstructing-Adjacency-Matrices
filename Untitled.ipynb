{
 "cells": [
  {
   "cell_type": "code",
   "execution_count": 115,
   "metadata": {},
   "outputs": [
    {
     "data": {
      "text/html": [
       "<details>\n",
       "<summary>Click to view session information</summary>\n",
       "<pre>\n",
       "-----\n",
       "numpy               1.18.1\n",
       "pandas              1.0.1\n",
       "session_info        1.0.0\n",
       "-----\n",
       "</pre>\n",
       "<details>\n",
       "<summary>Click to view modules imported as dependencies</summary>\n",
       "<pre>\n",
       "backcall            0.1.0\n",
       "bottleneck          1.3.2\n",
       "colorama            0.4.3\n",
       "cython_runtime      NA\n",
       "dateutil            2.8.1\n",
       "decorator           4.4.1\n",
       "ipykernel           5.1.4\n",
       "ipython_genutils    0.2.0\n",
       "jedi                0.14.1\n",
       "mkl                 2.3.0\n",
       "mpl_toolkits        NA\n",
       "parso               0.5.2\n",
       "pexpect             4.8.0\n",
       "pickleshare         0.7.5\n",
       "prompt_toolkit      3.0.3\n",
       "ptyprocess          0.6.0\n",
       "pygments            2.5.2\n",
       "pytz                2019.3\n",
       "six                 1.14.0\n",
       "sphinxcontrib       NA\n",
       "storemagic          NA\n",
       "tornado             6.0.3\n",
       "traitlets           4.3.3\n",
       "wcwidth             NA\n",
       "zmq                 18.1.1\n",
       "</pre>\n",
       "</details> <!-- seems like this ends pre, so might as well be explicit -->\n",
       "<pre>\n",
       "-----\n",
       "IPython             7.12.0\n",
       "jupyter_client      5.3.4\n",
       "jupyter_core        4.6.1\n",
       "jupyterlab          1.2.6\n",
       "notebook            6.0.3\n",
       "-----\n",
       "Python 3.7.6 (default, Jan  8 2020, 19:59:22) [GCC 7.3.0]\n",
       "Linux-5.15.0-100-generic-x86_64-with-debian-bullseye-sid\n",
       "-----\n",
       "Session information updated at 2024-03-16 16:01\n",
       "</pre>\n",
       "</details>"
      ],
      "text/plain": [
       "<IPython.core.display.HTML object>"
      ]
     },
     "execution_count": 115,
     "metadata": {},
     "output_type": "execute_result"
    }
   ],
   "source": [
    "import numpy as np\n",
    "import pandas as pd\n",
    "import session_info\n",
    "session_info.show()"
   ]
  },
  {
   "cell_type": "code",
   "execution_count": 108,
   "metadata": {},
   "outputs": [
    {
     "data": {
      "text/html": [
       "<div>\n",
       "<style scoped>\n",
       "    .dataframe tbody tr th:only-of-type {\n",
       "        vertical-align: middle;\n",
       "    }\n",
       "\n",
       "    .dataframe tbody tr th {\n",
       "        vertical-align: top;\n",
       "    }\n",
       "\n",
       "    .dataframe thead th {\n",
       "        text-align: right;\n",
       "    }\n",
       "</style>\n",
       "<table border=\"1\" class=\"dataframe\">\n",
       "  <thead>\n",
       "    <tr style=\"text-align: right;\">\n",
       "      <th></th>\n",
       "      <th>Id</th>\n",
       "      <th>City</th>\n",
       "      <th>0</th>\n",
       "      <th>1</th>\n",
       "      <th>2</th>\n",
       "      <th>3</th>\n",
       "      <th>4</th>\n",
       "      <th>5</th>\n",
       "      <th>6</th>\n",
       "      <th>7</th>\n",
       "      <th>...</th>\n",
       "      <th>35</th>\n",
       "      <th>36</th>\n",
       "      <th>37</th>\n",
       "      <th>38</th>\n",
       "      <th>39</th>\n",
       "      <th>40</th>\n",
       "      <th>41</th>\n",
       "      <th>42</th>\n",
       "      <th>43</th>\n",
       "      <th>44</th>\n",
       "    </tr>\n",
       "  </thead>\n",
       "  <tbody>\n",
       "    <tr>\n",
       "      <th>0</th>\n",
       "      <td>0</td>\n",
       "      <td>Hamburg</td>\n",
       "      <td>0</td>\n",
       "      <td>0</td>\n",
       "      <td>0</td>\n",
       "      <td>0</td>\n",
       "      <td>0</td>\n",
       "      <td>0</td>\n",
       "      <td>1</td>\n",
       "      <td>0</td>\n",
       "      <td>...</td>\n",
       "      <td>0</td>\n",
       "      <td>1</td>\n",
       "      <td>1</td>\n",
       "      <td>0</td>\n",
       "      <td>0</td>\n",
       "      <td>0</td>\n",
       "      <td>0</td>\n",
       "      <td>1</td>\n",
       "      <td>0</td>\n",
       "      <td>0</td>\n",
       "    </tr>\n",
       "    <tr>\n",
       "      <th>1</th>\n",
       "      <td>1</td>\n",
       "      <td>Berlin</td>\n",
       "      <td>0</td>\n",
       "      <td>0</td>\n",
       "      <td>0</td>\n",
       "      <td>0</td>\n",
       "      <td>0</td>\n",
       "      <td>0</td>\n",
       "      <td>1</td>\n",
       "      <td>0</td>\n",
       "      <td>...</td>\n",
       "      <td>0</td>\n",
       "      <td>0</td>\n",
       "      <td>0</td>\n",
       "      <td>0</td>\n",
       "      <td>0</td>\n",
       "      <td>0</td>\n",
       "      <td>0</td>\n",
       "      <td>0</td>\n",
       "      <td>0</td>\n",
       "      <td>0</td>\n",
       "    </tr>\n",
       "    <tr>\n",
       "      <th>2</th>\n",
       "      <td>2</td>\n",
       "      <td>Koeln</td>\n",
       "      <td>0</td>\n",
       "      <td>0</td>\n",
       "      <td>0</td>\n",
       "      <td>0</td>\n",
       "      <td>0</td>\n",
       "      <td>0</td>\n",
       "      <td>1</td>\n",
       "      <td>1</td>\n",
       "      <td>...</td>\n",
       "      <td>0</td>\n",
       "      <td>0</td>\n",
       "      <td>0</td>\n",
       "      <td>0</td>\n",
       "      <td>1</td>\n",
       "      <td>0</td>\n",
       "      <td>0</td>\n",
       "      <td>1</td>\n",
       "      <td>0</td>\n",
       "      <td>0</td>\n",
       "    </tr>\n",
       "  </tbody>\n",
       "</table>\n",
       "<p>3 rows × 47 columns</p>\n",
       "</div>"
      ],
      "text/plain": [
       "   Id     City  0  1  2  3  4  5  6  7  ...  35  36  37  38  39  40  41  42  \\\n",
       "0   0  Hamburg  0  0  0  0  0  0  1  0  ...   0   1   1   0   0   0   0   1   \n",
       "1   1   Berlin  0  0  0  0  0  0  1  0  ...   0   0   0   0   0   0   0   0   \n",
       "2   2    Koeln  0  0  0  0  0  0  1  1  ...   0   0   0   0   1   0   0   1   \n",
       "\n",
       "   43  44  \n",
       "0   0   0  \n",
       "1   0   0  \n",
       "2   0   0  \n",
       "\n",
       "[3 rows x 47 columns]"
      ]
     },
     "execution_count": 108,
     "metadata": {},
     "output_type": "execute_result"
    }
   ],
   "source": [
    "#Loading the dataset from a CSV file\n",
    "df = pd.read_csv('data.csv',header=None)\n",
    "num_cols = len(df.columns)\n",
    "rng = range(0, int(num_cols-2))\n",
    "new_cols = [\"Id\"] +  [\"City\"] + [str(i) for i in rng]\n",
    "df.columns = new_cols\n",
    "df.head()"
   ]
  },
  {
   "cell_type": "code",
   "execution_count": 109,
   "metadata": {},
   "outputs": [],
   "source": [
    "#Reconstruct the adjacency matrices\n",
    "def reconstruct_matrix(adj_matrix, adj_data):\n",
    "    start = 0\n",
    "    end = 9\n",
    "    for idx, row in enumerate(adj_matrix):\n",
    "        #print (start,end)\n",
    "        #print(idx, row)\n",
    "        adj_matrix[idx,(10-end):] = adj_data[start:end]\n",
    "        adj_data = adj_data[end:]\n",
    "        end -= 1\n",
    "        #print (adj_data)\n",
    "        #print(row)\n",
    "    return adj_matrix"
   ]
  },
  {
   "cell_type": "code",
   "execution_count": 110,
   "metadata": {},
   "outputs": [],
   "source": [
    "#Add labels for the points\n",
    "def label_transformation(adj_matrix):\n",
    "    df=pd.DataFrame(data=adj_matrix[0:,0:], index=[i for i in \"ABCDEFGHIJ\"], columns=[i for i in \"ABCDEFGHIJ\"])\n",
    "    return df"
   ]
  },
  {
   "cell_type": "code",
   "execution_count": 111,
   "metadata": {},
   "outputs": [
    {
     "name": "stdout",
     "output_type": "stream",
     "text": [
      "The matrix is : \n",
      " [[0. 0. 0. 0. 0. 0. 0. 0. 0. 0.]\n",
      " [0. 0. 0. 0. 0. 0. 0. 0. 0. 0.]\n",
      " [0. 0. 0. 0. 0. 0. 0. 0. 0. 0.]\n",
      " [0. 0. 0. 0. 0. 0. 0. 0. 0. 0.]\n",
      " [0. 0. 0. 0. 0. 0. 0. 0. 0. 0.]\n",
      " [0. 0. 0. 0. 0. 0. 0. 0. 0. 0.]\n",
      " [0. 0. 0. 0. 0. 0. 0. 0. 0. 0.]\n",
      " [0. 0. 0. 0. 0. 0. 0. 0. 0. 0.]\n",
      " [0. 0. 0. 0. 0. 0. 0. 0. 0. 0.]\n",
      " [0. 0. 0. 0. 0. 0. 0. 0. 0. 0.]]\n"
     ]
    }
   ],
   "source": [
    "a_v_hamburg = df.loc[df['Id'] == 0].iloc[:, 2:].to_numpy()[0]\n",
    "a_v_berlin = df.loc[df['Id'] == 1].iloc[:, 2:].to_numpy()[0]\n",
    "a_v_koeln = df.loc[df['Id'] == 2].iloc[:, 2:].to_numpy()[0]\n",
    "\n",
    "x = np.zeros((10, 10)) \n",
    "print('The matrix is : \\n', x) \n",
    "\n",
    "a_m_hamburg = reconstruct_matrix(x,a_v_hamburg)\n",
    "a_m_hamburg = label_transformation(a_m_hamburg)\n",
    "\n",
    "a_m_berlin = reconstruct_matrix(x,a_v_berlin)\n",
    "a_m_berlin = label_transformation(a_m_berlin)\n",
    "\n",
    "a_m_koeln = reconstruct_matrix(x,a_v_koeln)\n",
    "a_m_koeln = label_transformation(a_m_koeln)"
   ]
  },
  {
   "cell_type": "code",
   "execution_count": 112,
   "metadata": {},
   "outputs": [
    {
     "name": "stdout",
     "output_type": "stream",
     "text": [
      "     A    B    C    D    E    F    G    H    I    J\n",
      "A  0.0  0.0  0.0  0.0  0.0  0.0  0.0  1.0  1.0  0.0\n",
      "B  0.0  0.0  0.0  0.0  0.0  0.0  0.0  1.0  1.0  0.0\n",
      "C  0.0  0.0  0.0  0.0  0.0  0.0  0.0  1.0  1.0  0.0\n",
      "D  0.0  0.0  0.0  0.0  1.0  1.0  1.0  1.0  0.0  0.0\n",
      "E  0.0  0.0  0.0  0.0  0.0  1.0  1.0  1.0  0.0  0.0\n",
      "F  0.0  0.0  0.0  0.0  0.0  0.0  0.0  0.0  0.0  0.0\n",
      "G  0.0  0.0  0.0  0.0  0.0  0.0  0.0  1.0  0.0  0.0\n",
      "H  0.0  0.0  0.0  0.0  0.0  0.0  0.0  0.0  1.0  0.0\n",
      "I  0.0  0.0  0.0  0.0  0.0  0.0  0.0  0.0  0.0  0.0\n",
      "J  0.0  0.0  0.0  0.0  0.0  0.0  0.0  0.0  0.0  0.0\n"
     ]
    }
   ],
   "source": [
    "#Visualizing the matrices\n",
    "print(a_m_hamburg)"
   ]
  },
  {
   "cell_type": "code",
   "execution_count": 113,
   "metadata": {},
   "outputs": [
    {
     "name": "stdout",
     "output_type": "stream",
     "text": [
      "     A    B    C    D    E    F    G    H    I    J\n",
      "A  0.0  0.0  0.0  0.0  0.0  0.0  0.0  1.0  1.0  0.0\n",
      "B  0.0  0.0  0.0  0.0  0.0  0.0  0.0  1.0  1.0  0.0\n",
      "C  0.0  0.0  0.0  0.0  0.0  0.0  0.0  1.0  1.0  0.0\n",
      "D  0.0  0.0  0.0  0.0  1.0  1.0  1.0  1.0  0.0  0.0\n",
      "E  0.0  0.0  0.0  0.0  0.0  1.0  1.0  1.0  0.0  0.0\n",
      "F  0.0  0.0  0.0  0.0  0.0  0.0  0.0  0.0  0.0  0.0\n",
      "G  0.0  0.0  0.0  0.0  0.0  0.0  0.0  1.0  0.0  0.0\n",
      "H  0.0  0.0  0.0  0.0  0.0  0.0  0.0  0.0  1.0  0.0\n",
      "I  0.0  0.0  0.0  0.0  0.0  0.0  0.0  0.0  0.0  0.0\n",
      "J  0.0  0.0  0.0  0.0  0.0  0.0  0.0  0.0  0.0  0.0\n"
     ]
    }
   ],
   "source": [
    "print(a_m_berlin)"
   ]
  },
  {
   "cell_type": "code",
   "execution_count": 114,
   "metadata": {},
   "outputs": [
    {
     "name": "stdout",
     "output_type": "stream",
     "text": [
      "     A    B    C    D    E    F    G    H    I    J\n",
      "A  0.0  0.0  0.0  0.0  0.0  0.0  0.0  1.0  1.0  0.0\n",
      "B  0.0  0.0  0.0  0.0  0.0  0.0  0.0  1.0  1.0  0.0\n",
      "C  0.0  0.0  0.0  0.0  0.0  0.0  0.0  1.0  1.0  0.0\n",
      "D  0.0  0.0  0.0  0.0  1.0  1.0  1.0  1.0  0.0  0.0\n",
      "E  0.0  0.0  0.0  0.0  0.0  1.0  1.0  1.0  0.0  0.0\n",
      "F  0.0  0.0  0.0  0.0  0.0  0.0  0.0  0.0  0.0  0.0\n",
      "G  0.0  0.0  0.0  0.0  0.0  0.0  0.0  1.0  0.0  0.0\n",
      "H  0.0  0.0  0.0  0.0  0.0  0.0  0.0  0.0  1.0  0.0\n",
      "I  0.0  0.0  0.0  0.0  0.0  0.0  0.0  0.0  0.0  0.0\n",
      "J  0.0  0.0  0.0  0.0  0.0  0.0  0.0  0.0  0.0  0.0\n"
     ]
    }
   ],
   "source": [
    "print(a_m_koeln)"
   ]
  },
  {
   "cell_type": "code",
   "execution_count": null,
   "metadata": {},
   "outputs": [],
   "source": []
  }
 ],
 "metadata": {
  "kernelspec": {
   "display_name": "Python 3",
   "language": "python",
   "name": "python3"
  },
  "language_info": {
   "codemirror_mode": {
    "name": "ipython",
    "version": 3
   },
   "file_extension": ".py",
   "mimetype": "text/x-python",
   "name": "python",
   "nbconvert_exporter": "python",
   "pygments_lexer": "ipython3",
   "version": "3.7.6"
  }
 },
 "nbformat": 4,
 "nbformat_minor": 4
}
